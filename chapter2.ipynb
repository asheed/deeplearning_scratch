{
 "cells": [
  {
   "cell_type": "markdown",
   "metadata": {},
   "source": [
    "# 2장 퍼셉트론\n",
    "이 장에서는 퍼셉트론 알고리즘을 설명합니다.\n",
    "퍼셉트론은 프랑크 로젠블라트(Frank Rosenblatt)가 1957년에 고안한 알고리즘 입니다.\n",
    "퍼셉트론은 신경망(딥러닝)의 기원이 되는 알고리즘 입니다.\n",
    "## 2.1 퍼셉트론이란?\n",
    "- 다수의 신호를 입력으로 받아 하나의 신호를 출력\n",
    "- 신호? --> 전류나 강물처럼 흐름이 있는 것\n",
    "- 흐른다(1), 안 흐른다(0)"
   ]
  },
  {
   "cell_type": "markdown",
   "metadata": {},
   "source": [
    "$$y = \\begin{cases}\n",
    "0 (\\omega_1x_1+\\omega_2x_2\\le\\theta) \\\\\n",
    "1 (\\omega_1x_1+\\omega_2x_2\\le\\theta)\n",
    "\\end{cases}$$"
   ]
  },
  {
   "cell_type": "markdown",
   "metadata": {},
   "source": [
    "## 2.3 퍼셉트론 구현하기\n",
    "### 2.3.1 간단한 구현부터\n",
    "다음은 x1과 x2를 인수로 받는 AND라는 함수입니다."
   ]
  },
  {
   "cell_type": "code",
   "execution_count": 3,
   "metadata": {
    "collapsed": true
   },
   "outputs": [
    {
     "name": "stdout",
     "output_type": "stream",
     "text": [
      "0\n0\n0\n1\n"
     ]
    }
   ],
   "source": [
    "def AND(x1, x2):\n",
    "\tw1, w2, theta = 0.5, 0.5, 0.7\n",
    "\ttmp = x1*w1 + x2*w2\n",
    "\tif tmp <= theta:\n",
    "\t\treturn 0\n",
    "\telif tmp > theta:\n",
    "\t\treturn 1\n",
    "\n",
    "print(AND(0,0))\n",
    "print(AND(0,1))\n",
    "print(AND(1,0))\n",
    "print(AND(1,1))"
   ]
  },
  {
   "cell_type": "code",
   "execution_count": 7,
   "metadata": {},
   "outputs": [
    {
     "data": {
      "text/html": [
       "<table><tr><td>x1</td><td>x2</td><td>y</td></tr><tr><td>0</td><td>0</td><td>0</td></tr><tr><td>0</td><td>1</td><td>0</td></tr><tr><td>1</td><td>0</td><td>0</td></tr><tr><td>1</td><td>1</td><td>1</td></tr></table>"
      ],
      "text/plain": [
       "<table><tr><td>x1</td><td>x2</td><td>y</td></tr><tr><td>0</td><td>0</td><td>0</td></tr><tr><td>0</td><td>1</td><td>0</td></tr><tr><td>1</td><td>0</td><td>0</td></tr><tr><td>1</td><td>1</td><td>1</td></tr></table>"
      ]
     },
     "execution_count": 0,
     "metadata": {},
     "output_type": "execute_result"
    }
   ],
   "source": [
    "from IPython.display import HTML, display\n",
    "data = [['x1', 'x2', 'y'],\n",
    "        [0,0,0],\n",
    "        [0,1,0],\n",
    "        [1,0,0],\n",
    "        [1,1,1]\n",
    "        ]\n",
    "display(HTML(\n",
    "\t'<table><tr>{}</tr></table>'.format(\n",
    "\t\t'</tr><tr>'.join(\n",
    "\t\t\t'<td>{}</td>'.format('</td><td>'.join(str(_) for _ in row)) for row in data)\n",
    "\t\t)\n",
    "))\n"
   ]
  },
  {
   "cell_type": "markdown",
   "metadata": {},
   "source": [
    "### 2.3.2 가중치와 편향 도입\n",
    "위 식을 약간 변형합시다."
   ]
  },
  {
   "cell_type": "markdown",
   "metadata": {},
   "source": [
    "$\\theta$ 를 $-b$ 로 변환합니다."
   ]
  },
  {
   "cell_type": "markdown",
   "metadata": {},
   "source": [
    "$$y = \\begin{cases}\n",
    "0  (b+\\omega_1x_1+\\omega_2x_2\\le0) \\\\\n",
    "1  (b+\\omega_1x_1+\\omega_2x_2\\le0)\n",
    "\\end{cases}$$"
   ]
  },
  {
   "cell_type": "markdown",
   "metadata": {},
   "source": [
    "위 수식 두개는 기호 표기만 바꿨을 뿐, 그 의미는 같습니다.  \n",
    "여기에서 $b$를 편향(bias)이라 하며 $w_1$과$w_2$는 그대로 가중치(weight)입니다.  \n",
    "아래 코드를 봅시다.  "
   ]
  },
  {
   "cell_type": "code",
   "execution_count": 8,
   "metadata": {},
   "outputs": [
    {
     "name": "stdout",
     "output_type": "stream",
     "text": [
      "[ 0.   0.5]\n0.5\n-0.2\n"
     ]
    }
   ],
   "source": [
    "import numpy as np\n",
    "x = np.array([0, 1]) # 입력\n",
    "w = np.array([0.5, 0.5]) # 가중치\n",
    "b = -0.7 # 편향\n",
    "print(w*x)\n",
    "print(np.sum(w*x))\n",
    "print(np.sum(w*x) + b)"
   ]
  }
 ],
 "metadata": {
  "kernelspec": {
   "display_name": "Python 2",
   "language": "python",
   "name": "python2"
  },
  "language_info": {
   "codemirror_mode": {
    "name": "ipython",
    "version": 2
   },
   "file_extension": ".py",
   "mimetype": "text/x-python",
   "name": "python",
   "nbconvert_exporter": "python",
   "pygments_lexer": "ipython2",
   "version": "2.7.6"
  }
 },
 "nbformat": 4,
 "nbformat_minor": 0
}
