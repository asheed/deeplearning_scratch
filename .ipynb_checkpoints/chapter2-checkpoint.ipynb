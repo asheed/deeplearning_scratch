{
 "cells": [
  {
   "cell_type": "markdown",
   "metadata": {},
   "source": [
    "# 2장 퍼셉트론\n",
    "이 장에서는 퍼셉트론 알고리즘을 설명합니다.\n",
    "퍼셉트론은 프랑크 로젠블라트(Frank Rosenblatt)가 1957년에 고안한 알고리즘 입니다.\n",
    "퍼셉트론은 신경망(딥러닝)의 기원이 되는 알고리즘 입니다.\n",
    "# 2.1 퍼셉트론이란?\n",
    "- 다수의 신호를 입력으로 받아 하나의 신호를 출력\n",
    "- 신호? --> 전류나 강물처럼 흐름이 있는 것\n",
    "- 흐른다(1), 안 흐른다(0)"
   ]
  },
  {
   "cell_type": "markdown",
   "metadata": {},
   "source": [
    "\\begin{cases}\n",
    "0 (\\omega_1x_1+\\omega_2x_2\\le\\theta) \\\\\n",
    "1 (\\omega_1x_1+\\omega_2x_2\\le\\theta)\n",
    "\\end{cases}"
   ]
  },
  {
   "cell_type": "markdown",
   "metadata": {},
   "source": [
    "\\begin{cases}\n",
    "n/2,  & \\text{if $n$ is even} \\\\\n",
    "3n+1, & \\text{if $n$ is odd}\n",
    "\\end{cases}"
   ]
  },
  {
   "cell_type": "code",
   "execution_count": null,
   "metadata": {
    "collapsed": true
   },
   "outputs": [],
   "source": []
  }
 ],
 "metadata": {
  "kernelspec": {
   "display_name": "Python 3",
   "language": "python",
   "name": "python3"
  },
  "language_info": {
   "codemirror_mode": {
    "name": "ipython",
    "version": 3
   },
   "file_extension": ".py",
   "mimetype": "text/x-python",
   "name": "python",
   "nbconvert_exporter": "python",
   "pygments_lexer": "ipython3",
   "version": "3.6.0"
  }
 },
 "nbformat": 4,
 "nbformat_minor": 0
}
